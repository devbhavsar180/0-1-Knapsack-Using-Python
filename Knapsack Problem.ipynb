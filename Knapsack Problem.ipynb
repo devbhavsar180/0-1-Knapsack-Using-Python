{
 "cells": [
  {
   "cell_type": "code",
   "execution_count": null,
   "id": "6a6a7c81",
   "metadata": {},
   "outputs": [],
   "source": [
    "P = [] # price of items \n",
    "W = [] # weight of items \n",
    "\n",
    "n = int(input(\"How many items are there?\\n\"))\n",
    "\n",
    "\n",
    "def max1(a, b):\n",
    "    if a > b:\n",
    "        return a\n",
    "    else:\n",
    "        return b\n",
    "\n",
    "def knapsack(P, W, n, c):\n",
    "    if n == 0 or c == 0:\n",
    "        return 0\n",
    "    elif W[n-1] > c:\n",
    "        return knapsack(P, W, n-1, c)\n",
    "    else:\n",
    "        return max1(knapsack(P, W, n-1, c-W[n-1]) + P[n-1], knapsack(P, W, n-1, c))\n",
    "\n",
    "for i in range(n): \n",
    "    W.append(int(input(\"Enter weight of item {}: \".format(i+1))))\n",
    "print()\n",
    "\n",
    " \n",
    "for i in range(n):\n",
    "    P.append(int(input(\"Enter price of item {}: \".format(i+1))))\n",
    "    \n",
    "c = int(input(\"Enter capacity: \"))\n",
    "print(\"\\n\\nMaximum possible profit:\", knapsack(P, W, n, c))\n",
    "\n",
    "print(P)\n",
    "print(W)"
   ]
  }
 ],
 "metadata": {
  "kernelspec": {
   "display_name": "Python 3 (ipykernel)",
   "language": "python",
   "name": "python3"
  },
  "language_info": {
   "codemirror_mode": {
    "name": "ipython",
    "version": 3
   },
   "file_extension": ".py",
   "mimetype": "text/x-python",
   "name": "python",
   "nbconvert_exporter": "python",
   "pygments_lexer": "ipython3",
   "version": "3.10.9"
  }
 },
 "nbformat": 4,
 "nbformat_minor": 5
}
